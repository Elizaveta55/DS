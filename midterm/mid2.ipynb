{
  "nbformat": 4,
  "nbformat_minor": 5,
  "metadata": {
    "accelerator": "GPU",
    "colab": {
      "name": "mid.ipynb",
      "provenance": [],
      "toc_visible": true,
      "include_colab_link": true
    },
    "kernelspec": {
      "display_name": "Python 3",
      "language": "python",
      "name": "python3"
    },
    "language_info": {
      "codemirror_mode": {
        "name": "ipython",
        "version": 3
      },
      "file_extension": ".py",
      "mimetype": "text/x-python",
      "name": "python",
      "nbconvert_exporter": "python",
      "pygments_lexer": "ipython3",
      "version": "3.8.5"
    },
    "widgets": {
      "application/vnd.jupyter.widget-state+json": {
        "c6aaaeac241f4c008fe5a17217dc75f7": {
          "model_module": "@jupyter-widgets/controls",
          "model_name": "HBoxModel",
          "state": {
            "_view_name": "HBoxView",
            "_dom_classes": [],
            "_model_name": "HBoxModel",
            "_view_module": "@jupyter-widgets/controls",
            "_model_module_version": "1.5.0",
            "_view_count": null,
            "_view_module_version": "1.5.0",
            "box_style": "",
            "layout": "IPY_MODEL_032f927596864bcab7fdb17a59d83c19",
            "_model_module": "@jupyter-widgets/controls",
            "children": [
              "IPY_MODEL_f33ea563eef443a2a5dff95061bd0b2d",
              "IPY_MODEL_fc34d463ac01478fbd1ef2abfa5a09fe"
            ]
          }
        },
        "032f927596864bcab7fdb17a59d83c19": {
          "model_module": "@jupyter-widgets/base",
          "model_name": "LayoutModel",
          "state": {
            "_view_name": "LayoutView",
            "grid_template_rows": null,
            "right": null,
            "justify_content": null,
            "_view_module": "@jupyter-widgets/base",
            "overflow": null,
            "_model_module_version": "1.2.0",
            "_view_count": null,
            "flex_flow": null,
            "width": null,
            "min_width": null,
            "border": null,
            "align_items": null,
            "bottom": null,
            "_model_module": "@jupyter-widgets/base",
            "top": null,
            "grid_column": null,
            "overflow_y": null,
            "overflow_x": null,
            "grid_auto_flow": null,
            "grid_area": null,
            "grid_template_columns": null,
            "flex": null,
            "_model_name": "LayoutModel",
            "justify_items": null,
            "grid_row": null,
            "max_height": null,
            "align_content": null,
            "visibility": null,
            "align_self": null,
            "height": null,
            "min_height": null,
            "padding": null,
            "grid_auto_rows": null,
            "grid_gap": null,
            "max_width": null,
            "order": null,
            "_view_module_version": "1.2.0",
            "grid_template_areas": null,
            "object_position": null,
            "object_fit": null,
            "grid_auto_columns": null,
            "margin": null,
            "display": null,
            "left": null
          }
        },
        "f33ea563eef443a2a5dff95061bd0b2d": {
          "model_module": "@jupyter-widgets/controls",
          "model_name": "FloatProgressModel",
          "state": {
            "_view_name": "ProgressView",
            "style": "IPY_MODEL_2d621cf63fd94f6ab938d1fd724569f1",
            "_dom_classes": [],
            "description": "",
            "_model_name": "FloatProgressModel",
            "bar_style": "success",
            "max": 182040794,
            "_view_module": "@jupyter-widgets/controls",
            "_model_module_version": "1.5.0",
            "value": 182040794,
            "_view_count": null,
            "_view_module_version": "1.5.0",
            "orientation": "horizontal",
            "min": 0,
            "description_tooltip": null,
            "_model_module": "@jupyter-widgets/controls",
            "layout": "IPY_MODEL_c564a48d69d4493db1c1468df2854fd8"
          }
        },
        "fc34d463ac01478fbd1ef2abfa5a09fe": {
          "model_module": "@jupyter-widgets/controls",
          "model_name": "HTMLModel",
          "state": {
            "_view_name": "HTMLView",
            "style": "IPY_MODEL_4a131078a7c843d38c80c13d7d5070f0",
            "_dom_classes": [],
            "description": "",
            "_model_name": "HTMLModel",
            "placeholder": "​",
            "_view_module": "@jupyter-widgets/controls",
            "_model_module_version": "1.5.0",
            "value": " 182041600/? [00:35&lt;00:00, 5176627.56it/s]",
            "_view_count": null,
            "_view_module_version": "1.5.0",
            "description_tooltip": null,
            "_model_module": "@jupyter-widgets/controls",
            "layout": "IPY_MODEL_4248aada495c40f4a265489d37654816"
          }
        },
        "2d621cf63fd94f6ab938d1fd724569f1": {
          "model_module": "@jupyter-widgets/controls",
          "model_name": "ProgressStyleModel",
          "state": {
            "_view_name": "StyleView",
            "_model_name": "ProgressStyleModel",
            "description_width": "initial",
            "_view_module": "@jupyter-widgets/base",
            "_model_module_version": "1.5.0",
            "_view_count": null,
            "_view_module_version": "1.2.0",
            "bar_color": null,
            "_model_module": "@jupyter-widgets/controls"
          }
        },
        "c564a48d69d4493db1c1468df2854fd8": {
          "model_module": "@jupyter-widgets/base",
          "model_name": "LayoutModel",
          "state": {
            "_view_name": "LayoutView",
            "grid_template_rows": null,
            "right": null,
            "justify_content": null,
            "_view_module": "@jupyter-widgets/base",
            "overflow": null,
            "_model_module_version": "1.2.0",
            "_view_count": null,
            "flex_flow": null,
            "width": null,
            "min_width": null,
            "border": null,
            "align_items": null,
            "bottom": null,
            "_model_module": "@jupyter-widgets/base",
            "top": null,
            "grid_column": null,
            "overflow_y": null,
            "overflow_x": null,
            "grid_auto_flow": null,
            "grid_area": null,
            "grid_template_columns": null,
            "flex": null,
            "_model_name": "LayoutModel",
            "justify_items": null,
            "grid_row": null,
            "max_height": null,
            "align_content": null,
            "visibility": null,
            "align_self": null,
            "height": null,
            "min_height": null,
            "padding": null,
            "grid_auto_rows": null,
            "grid_gap": null,
            "max_width": null,
            "order": null,
            "_view_module_version": "1.2.0",
            "grid_template_areas": null,
            "object_position": null,
            "object_fit": null,
            "grid_auto_columns": null,
            "margin": null,
            "display": null,
            "left": null
          }
        },
        "4a131078a7c843d38c80c13d7d5070f0": {
          "model_module": "@jupyter-widgets/controls",
          "model_name": "DescriptionStyleModel",
          "state": {
            "_view_name": "StyleView",
            "_model_name": "DescriptionStyleModel",
            "description_width": "",
            "_view_module": "@jupyter-widgets/base",
            "_model_module_version": "1.5.0",
            "_view_count": null,
            "_view_module_version": "1.2.0",
            "_model_module": "@jupyter-widgets/controls"
          }
        },
        "4248aada495c40f4a265489d37654816": {
          "model_module": "@jupyter-widgets/base",
          "model_name": "LayoutModel",
          "state": {
            "_view_name": "LayoutView",
            "grid_template_rows": null,
            "right": null,
            "justify_content": null,
            "_view_module": "@jupyter-widgets/base",
            "overflow": null,
            "_model_module_version": "1.2.0",
            "_view_count": null,
            "flex_flow": null,
            "width": null,
            "min_width": null,
            "border": null,
            "align_items": null,
            "bottom": null,
            "_model_module": "@jupyter-widgets/base",
            "top": null,
            "grid_column": null,
            "overflow_y": null,
            "overflow_x": null,
            "grid_auto_flow": null,
            "grid_area": null,
            "grid_template_columns": null,
            "flex": null,
            "_model_name": "LayoutModel",
            "justify_items": null,
            "grid_row": null,
            "max_height": null,
            "align_content": null,
            "visibility": null,
            "align_self": null,
            "height": null,
            "min_height": null,
            "padding": null,
            "grid_auto_rows": null,
            "grid_gap": null,
            "max_width": null,
            "order": null,
            "_view_module_version": "1.2.0",
            "grid_template_areas": null,
            "object_position": null,
            "object_fit": null,
            "grid_auto_columns": null,
            "margin": null,
            "display": null,
            "left": null
          }
        },
        "291efbc39fbb4ff5bed13b038a5d9ac1": {
          "model_module": "@jupyter-widgets/controls",
          "model_name": "HBoxModel",
          "state": {
            "_view_name": "HBoxView",
            "_dom_classes": [],
            "_model_name": "HBoxModel",
            "_view_module": "@jupyter-widgets/controls",
            "_model_module_version": "1.5.0",
            "_view_count": null,
            "_view_module_version": "1.5.0",
            "box_style": "",
            "layout": "IPY_MODEL_fbd75528822243d79849823b08e2a999",
            "_model_module": "@jupyter-widgets/controls",
            "children": [
              "IPY_MODEL_e37de2944e904877b3367d6631302283",
              "IPY_MODEL_021273d0b36c4c2093a5edda419b2b77"
            ]
          }
        },
        "fbd75528822243d79849823b08e2a999": {
          "model_module": "@jupyter-widgets/base",
          "model_name": "LayoutModel",
          "state": {
            "_view_name": "LayoutView",
            "grid_template_rows": null,
            "right": null,
            "justify_content": null,
            "_view_module": "@jupyter-widgets/base",
            "overflow": null,
            "_model_module_version": "1.2.0",
            "_view_count": null,
            "flex_flow": null,
            "width": null,
            "min_width": null,
            "border": null,
            "align_items": null,
            "bottom": null,
            "_model_module": "@jupyter-widgets/base",
            "top": null,
            "grid_column": null,
            "overflow_y": null,
            "overflow_x": null,
            "grid_auto_flow": null,
            "grid_area": null,
            "grid_template_columns": null,
            "flex": null,
            "_model_name": "LayoutModel",
            "justify_items": null,
            "grid_row": null,
            "max_height": null,
            "align_content": null,
            "visibility": null,
            "align_self": null,
            "height": null,
            "min_height": null,
            "padding": null,
            "grid_auto_rows": null,
            "grid_gap": null,
            "max_width": null,
            "order": null,
            "_view_module_version": "1.2.0",
            "grid_template_areas": null,
            "object_position": null,
            "object_fit": null,
            "grid_auto_columns": null,
            "margin": null,
            "display": null,
            "left": null
          }
        },
        "e37de2944e904877b3367d6631302283": {
          "model_module": "@jupyter-widgets/controls",
          "model_name": "FloatProgressModel",
          "state": {
            "_view_name": "ProgressView",
            "style": "IPY_MODEL_2297327530174d7f9ebf68325aab8a23",
            "_dom_classes": [],
            "description": "",
            "_model_name": "FloatProgressModel",
            "bar_style": "success",
            "max": 64275384,
            "_view_module": "@jupyter-widgets/controls",
            "_model_module_version": "1.5.0",
            "value": 64275384,
            "_view_count": null,
            "_view_module_version": "1.5.0",
            "orientation": "horizontal",
            "min": 0,
            "description_tooltip": null,
            "_model_module": "@jupyter-widgets/controls",
            "layout": "IPY_MODEL_8058c3aebd4546c68bb95aca84c3219d"
          }
        },
        "021273d0b36c4c2093a5edda419b2b77": {
          "model_module": "@jupyter-widgets/controls",
          "model_name": "HTMLModel",
          "state": {
            "_view_name": "HTMLView",
            "style": "IPY_MODEL_1d37fb37ae4b4267a9b8f1ece4a8e0fc",
            "_dom_classes": [],
            "description": "",
            "_model_name": "HTMLModel",
            "placeholder": "​",
            "_view_module": "@jupyter-widgets/controls",
            "_model_module_version": "1.5.0",
            "value": " 64275456/? [00:27&lt;00:00, 2319478.39it/s]",
            "_view_count": null,
            "_view_module_version": "1.5.0",
            "description_tooltip": null,
            "_model_module": "@jupyter-widgets/controls",
            "layout": "IPY_MODEL_1374e07a4ad04c169b5fcb9ab09a759c"
          }
        },
        "2297327530174d7f9ebf68325aab8a23": {
          "model_module": "@jupyter-widgets/controls",
          "model_name": "ProgressStyleModel",
          "state": {
            "_view_name": "StyleView",
            "_model_name": "ProgressStyleModel",
            "description_width": "initial",
            "_view_module": "@jupyter-widgets/base",
            "_model_module_version": "1.5.0",
            "_view_count": null,
            "_view_module_version": "1.2.0",
            "bar_color": null,
            "_model_module": "@jupyter-widgets/controls"
          }
        },
        "8058c3aebd4546c68bb95aca84c3219d": {
          "model_module": "@jupyter-widgets/base",
          "model_name": "LayoutModel",
          "state": {
            "_view_name": "LayoutView",
            "grid_template_rows": null,
            "right": null,
            "justify_content": null,
            "_view_module": "@jupyter-widgets/base",
            "overflow": null,
            "_model_module_version": "1.2.0",
            "_view_count": null,
            "flex_flow": null,
            "width": null,
            "min_width": null,
            "border": null,
            "align_items": null,
            "bottom": null,
            "_model_module": "@jupyter-widgets/base",
            "top": null,
            "grid_column": null,
            "overflow_y": null,
            "overflow_x": null,
            "grid_auto_flow": null,
            "grid_area": null,
            "grid_template_columns": null,
            "flex": null,
            "_model_name": "LayoutModel",
            "justify_items": null,
            "grid_row": null,
            "max_height": null,
            "align_content": null,
            "visibility": null,
            "align_self": null,
            "height": null,
            "min_height": null,
            "padding": null,
            "grid_auto_rows": null,
            "grid_gap": null,
            "max_width": null,
            "order": null,
            "_view_module_version": "1.2.0",
            "grid_template_areas": null,
            "object_position": null,
            "object_fit": null,
            "grid_auto_columns": null,
            "margin": null,
            "display": null,
            "left": null
          }
        },
        "1d37fb37ae4b4267a9b8f1ece4a8e0fc": {
          "model_module": "@jupyter-widgets/controls",
          "model_name": "DescriptionStyleModel",
          "state": {
            "_view_name": "StyleView",
            "_model_name": "DescriptionStyleModel",
            "description_width": "",
            "_view_module": "@jupyter-widgets/base",
            "_model_module_version": "1.5.0",
            "_view_count": null,
            "_view_module_version": "1.2.0",
            "_model_module": "@jupyter-widgets/controls"
          }
        },
        "1374e07a4ad04c169b5fcb9ab09a759c": {
          "model_module": "@jupyter-widgets/base",
          "model_name": "LayoutModel",
          "state": {
            "_view_name": "LayoutView",
            "grid_template_rows": null,
            "right": null,
            "justify_content": null,
            "_view_module": "@jupyter-widgets/base",
            "overflow": null,
            "_model_module_version": "1.2.0",
            "_view_count": null,
            "flex_flow": null,
            "width": null,
            "min_width": null,
            "border": null,
            "align_items": null,
            "bottom": null,
            "_model_module": "@jupyter-widgets/base",
            "top": null,
            "grid_column": null,
            "overflow_y": null,
            "overflow_x": null,
            "grid_auto_flow": null,
            "grid_area": null,
            "grid_template_columns": null,
            "flex": null,
            "_model_name": "LayoutModel",
            "justify_items": null,
            "grid_row": null,
            "max_height": null,
            "align_content": null,
            "visibility": null,
            "align_self": null,
            "height": null,
            "min_height": null,
            "padding": null,
            "grid_auto_rows": null,
            "grid_gap": null,
            "max_width": null,
            "order": null,
            "_view_module_version": "1.2.0",
            "grid_template_areas": null,
            "object_position": null,
            "object_fit": null,
            "grid_auto_columns": null,
            "margin": null,
            "display": null,
            "left": null
          }
        },
        "51805b9ac4b643a88b4bba0d14f6fc40": {
          "model_module": "@jupyter-widgets/controls",
          "model_name": "HBoxModel",
          "state": {
            "_view_name": "HBoxView",
            "_dom_classes": [],
            "_model_name": "HBoxModel",
            "_view_module": "@jupyter-widgets/controls",
            "_model_module_version": "1.5.0",
            "_view_count": null,
            "_view_module_version": "1.5.0",
            "box_style": "",
            "layout": "IPY_MODEL_55fd8d790bb54bcaad736ba7eb8d5c55",
            "_model_module": "@jupyter-widgets/controls",
            "children": [
              "IPY_MODEL_7828ed88e9334698811922193e8a1fef",
              "IPY_MODEL_01d8b871853946ceae7e64eb7ea24141"
            ]
          }
        },
        "55fd8d790bb54bcaad736ba7eb8d5c55": {
          "model_module": "@jupyter-widgets/base",
          "model_name": "LayoutModel",
          "state": {
            "_view_name": "LayoutView",
            "grid_template_rows": null,
            "right": null,
            "justify_content": null,
            "_view_module": "@jupyter-widgets/base",
            "overflow": null,
            "_model_module_version": "1.2.0",
            "_view_count": null,
            "flex_flow": null,
            "width": null,
            "min_width": null,
            "border": null,
            "align_items": null,
            "bottom": null,
            "_model_module": "@jupyter-widgets/base",
            "top": null,
            "grid_column": null,
            "overflow_y": null,
            "overflow_x": null,
            "grid_auto_flow": null,
            "grid_area": null,
            "grid_template_columns": null,
            "flex": null,
            "_model_name": "LayoutModel",
            "justify_items": null,
            "grid_row": null,
            "max_height": null,
            "align_content": null,
            "visibility": null,
            "align_self": null,
            "height": null,
            "min_height": null,
            "padding": null,
            "grid_auto_rows": null,
            "grid_gap": null,
            "max_width": null,
            "order": null,
            "_view_module_version": "1.2.0",
            "grid_template_areas": null,
            "object_position": null,
            "object_fit": null,
            "grid_auto_columns": null,
            "margin": null,
            "display": null,
            "left": null
          }
        },
        "7828ed88e9334698811922193e8a1fef": {
          "model_module": "@jupyter-widgets/controls",
          "model_name": "FloatProgressModel",
          "state": {
            "_view_name": "ProgressView",
            "style": "IPY_MODEL_6053de4fd5044946bc1183b5b4512ca2",
            "_dom_classes": [],
            "description": "",
            "_model_name": "FloatProgressModel",
            "bar_style": "success",
            "max": 170498071,
            "_view_module": "@jupyter-widgets/controls",
            "_model_module_version": "1.5.0",
            "value": 170498071,
            "_view_count": null,
            "_view_module_version": "1.5.0",
            "orientation": "horizontal",
            "min": 0,
            "description_tooltip": null,
            "_model_module": "@jupyter-widgets/controls",
            "layout": "IPY_MODEL_64f14fc4dd60420e897008177d294e63"
          }
        },
        "01d8b871853946ceae7e64eb7ea24141": {
          "model_module": "@jupyter-widgets/controls",
          "model_name": "HTMLModel",
          "state": {
            "_view_name": "HTMLView",
            "style": "IPY_MODEL_e744a5df2da041269afd614c8321eac0",
            "_dom_classes": [],
            "description": "",
            "_model_name": "HTMLModel",
            "placeholder": "​",
            "_view_module": "@jupyter-widgets/controls",
            "_model_module_version": "1.5.0",
            "value": " 170499072/? [00:05&lt;00:00, 28716239.71it/s]",
            "_view_count": null,
            "_view_module_version": "1.5.0",
            "description_tooltip": null,
            "_model_module": "@jupyter-widgets/controls",
            "layout": "IPY_MODEL_156a54579b734efe9ecf911f42cbb048"
          }
        },
        "6053de4fd5044946bc1183b5b4512ca2": {
          "model_module": "@jupyter-widgets/controls",
          "model_name": "ProgressStyleModel",
          "state": {
            "_view_name": "StyleView",
            "_model_name": "ProgressStyleModel",
            "description_width": "initial",
            "_view_module": "@jupyter-widgets/base",
            "_model_module_version": "1.5.0",
            "_view_count": null,
            "_view_module_version": "1.2.0",
            "bar_color": null,
            "_model_module": "@jupyter-widgets/controls"
          }
        },
        "64f14fc4dd60420e897008177d294e63": {
          "model_module": "@jupyter-widgets/base",
          "model_name": "LayoutModel",
          "state": {
            "_view_name": "LayoutView",
            "grid_template_rows": null,
            "right": null,
            "justify_content": null,
            "_view_module": "@jupyter-widgets/base",
            "overflow": null,
            "_model_module_version": "1.2.0",
            "_view_count": null,
            "flex_flow": null,
            "width": null,
            "min_width": null,
            "border": null,
            "align_items": null,
            "bottom": null,
            "_model_module": "@jupyter-widgets/base",
            "top": null,
            "grid_column": null,
            "overflow_y": null,
            "overflow_x": null,
            "grid_auto_flow": null,
            "grid_area": null,
            "grid_template_columns": null,
            "flex": null,
            "_model_name": "LayoutModel",
            "justify_items": null,
            "grid_row": null,
            "max_height": null,
            "align_content": null,
            "visibility": null,
            "align_self": null,
            "height": null,
            "min_height": null,
            "padding": null,
            "grid_auto_rows": null,
            "grid_gap": null,
            "max_width": null,
            "order": null,
            "_view_module_version": "1.2.0",
            "grid_template_areas": null,
            "object_position": null,
            "object_fit": null,
            "grid_auto_columns": null,
            "margin": null,
            "display": null,
            "left": null
          }
        },
        "e744a5df2da041269afd614c8321eac0": {
          "model_module": "@jupyter-widgets/controls",
          "model_name": "DescriptionStyleModel",
          "state": {
            "_view_name": "StyleView",
            "_model_name": "DescriptionStyleModel",
            "description_width": "",
            "_view_module": "@jupyter-widgets/base",
            "_model_module_version": "1.5.0",
            "_view_count": null,
            "_view_module_version": "1.2.0",
            "_model_module": "@jupyter-widgets/controls"
          }
        },
        "156a54579b734efe9ecf911f42cbb048": {
          "model_module": "@jupyter-widgets/base",
          "model_name": "LayoutModel",
          "state": {
            "_view_name": "LayoutView",
            "grid_template_rows": null,
            "right": null,
            "justify_content": null,
            "_view_module": "@jupyter-widgets/base",
            "overflow": null,
            "_model_module_version": "1.2.0",
            "_view_count": null,
            "flex_flow": null,
            "width": null,
            "min_width": null,
            "border": null,
            "align_items": null,
            "bottom": null,
            "_model_module": "@jupyter-widgets/base",
            "top": null,
            "grid_column": null,
            "overflow_y": null,
            "overflow_x": null,
            "grid_auto_flow": null,
            "grid_area": null,
            "grid_template_columns": null,
            "flex": null,
            "_model_name": "LayoutModel",
            "justify_items": null,
            "grid_row": null,
            "max_height": null,
            "align_content": null,
            "visibility": null,
            "align_self": null,
            "height": null,
            "min_height": null,
            "padding": null,
            "grid_auto_rows": null,
            "grid_gap": null,
            "max_width": null,
            "order": null,
            "_view_module_version": "1.2.0",
            "grid_template_areas": null,
            "object_position": null,
            "object_fit": null,
            "grid_auto_columns": null,
            "margin": null,
            "display": null,
            "left": null
          }
        },
        "38cfd9aca2b84a94af10bf4d16ac579f": {
          "model_module": "@jupyter-widgets/controls",
          "model_name": "HBoxModel",
          "state": {
            "_view_name": "HBoxView",
            "_dom_classes": [],
            "_model_name": "HBoxModel",
            "_view_module": "@jupyter-widgets/controls",
            "_model_module_version": "1.5.0",
            "_view_count": null,
            "_view_module_version": "1.5.0",
            "box_style": "",
            "layout": "IPY_MODEL_5e5c864f6fdc4a63bb3b2b1b56b848c3",
            "_model_module": "@jupyter-widgets/controls",
            "children": [
              "IPY_MODEL_903ba97186f54629aadb71aa9ff78c61",
              "IPY_MODEL_9c8e7361349647658d1be618ee748133"
            ]
          }
        },
        "5e5c864f6fdc4a63bb3b2b1b56b848c3": {
          "model_module": "@jupyter-widgets/base",
          "model_name": "LayoutModel",
          "state": {
            "_view_name": "LayoutView",
            "grid_template_rows": null,
            "right": null,
            "justify_content": null,
            "_view_module": "@jupyter-widgets/base",
            "overflow": null,
            "_model_module_version": "1.2.0",
            "_view_count": null,
            "flex_flow": null,
            "width": null,
            "min_width": null,
            "border": null,
            "align_items": null,
            "bottom": null,
            "_model_module": "@jupyter-widgets/base",
            "top": null,
            "grid_column": null,
            "overflow_y": null,
            "overflow_x": null,
            "grid_auto_flow": null,
            "grid_area": null,
            "grid_template_columns": null,
            "flex": null,
            "_model_name": "LayoutModel",
            "justify_items": null,
            "grid_row": null,
            "max_height": null,
            "align_content": null,
            "visibility": null,
            "align_self": null,
            "height": null,
            "min_height": null,
            "padding": null,
            "grid_auto_rows": null,
            "grid_gap": null,
            "max_width": null,
            "order": null,
            "_view_module_version": "1.2.0",
            "grid_template_areas": null,
            "object_position": null,
            "object_fit": null,
            "grid_auto_columns": null,
            "margin": null,
            "display": null,
            "left": null
          }
        },
        "903ba97186f54629aadb71aa9ff78c61": {
          "model_module": "@jupyter-widgets/controls",
          "model_name": "FloatProgressModel",
          "state": {
            "_view_name": "ProgressView",
            "style": "IPY_MODEL_f15c65137c79482f9a7b0b8fdb12f064",
            "_dom_classes": [],
            "description": "100%",
            "_model_name": "FloatProgressModel",
            "bar_style": "success",
            "max": 46827520,
            "_view_module": "@jupyter-widgets/controls",
            "_model_module_version": "1.5.0",
            "value": 46827520,
            "_view_count": null,
            "_view_module_version": "1.5.0",
            "orientation": "horizontal",
            "min": 0,
            "description_tooltip": null,
            "_model_module": "@jupyter-widgets/controls",
            "layout": "IPY_MODEL_b586f46b948641ac9cb7a38cea61a47a"
          }
        },
        "9c8e7361349647658d1be618ee748133": {
          "model_module": "@jupyter-widgets/controls",
          "model_name": "HTMLModel",
          "state": {
            "_view_name": "HTMLView",
            "style": "IPY_MODEL_0dcdcf4c8b5f41f8800e7b25a820d470",
            "_dom_classes": [],
            "description": "",
            "_model_name": "HTMLModel",
            "placeholder": "​",
            "_view_module": "@jupyter-widgets/controls",
            "_model_module_version": "1.5.0",
            "value": " 44.7M/44.7M [00:00&lt;00:00, 95.7MB/s]",
            "_view_count": null,
            "_view_module_version": "1.5.0",
            "description_tooltip": null,
            "_model_module": "@jupyter-widgets/controls",
            "layout": "IPY_MODEL_46b841cd266a419c914a8d704f0b5509"
          }
        },
        "f15c65137c79482f9a7b0b8fdb12f064": {
          "model_module": "@jupyter-widgets/controls",
          "model_name": "ProgressStyleModel",
          "state": {
            "_view_name": "StyleView",
            "_model_name": "ProgressStyleModel",
            "description_width": "initial",
            "_view_module": "@jupyter-widgets/base",
            "_model_module_version": "1.5.0",
            "_view_count": null,
            "_view_module_version": "1.2.0",
            "bar_color": null,
            "_model_module": "@jupyter-widgets/controls"
          }
        },
        "b586f46b948641ac9cb7a38cea61a47a": {
          "model_module": "@jupyter-widgets/base",
          "model_name": "LayoutModel",
          "state": {
            "_view_name": "LayoutView",
            "grid_template_rows": null,
            "right": null,
            "justify_content": null,
            "_view_module": "@jupyter-widgets/base",
            "overflow": null,
            "_model_module_version": "1.2.0",
            "_view_count": null,
            "flex_flow": null,
            "width": null,
            "min_width": null,
            "border": null,
            "align_items": null,
            "bottom": null,
            "_model_module": "@jupyter-widgets/base",
            "top": null,
            "grid_column": null,
            "overflow_y": null,
            "overflow_x": null,
            "grid_auto_flow": null,
            "grid_area": null,
            "grid_template_columns": null,
            "flex": null,
            "_model_name": "LayoutModel",
            "justify_items": null,
            "grid_row": null,
            "max_height": null,
            "align_content": null,
            "visibility": null,
            "align_self": null,
            "height": null,
            "min_height": null,
            "padding": null,
            "grid_auto_rows": null,
            "grid_gap": null,
            "max_width": null,
            "order": null,
            "_view_module_version": "1.2.0",
            "grid_template_areas": null,
            "object_position": null,
            "object_fit": null,
            "grid_auto_columns": null,
            "margin": null,
            "display": null,
            "left": null
          }
        },
        "0dcdcf4c8b5f41f8800e7b25a820d470": {
          "model_module": "@jupyter-widgets/controls",
          "model_name": "DescriptionStyleModel",
          "state": {
            "_view_name": "StyleView",
            "_model_name": "DescriptionStyleModel",
            "description_width": "",
            "_view_module": "@jupyter-widgets/base",
            "_model_module_version": "1.5.0",
            "_view_count": null,
            "_view_module_version": "1.2.0",
            "_model_module": "@jupyter-widgets/controls"
          }
        },
        "46b841cd266a419c914a8d704f0b5509": {
          "model_module": "@jupyter-widgets/base",
          "model_name": "LayoutModel",
          "state": {
            "_view_name": "LayoutView",
            "grid_template_rows": null,
            "right": null,
            "justify_content": null,
            "_view_module": "@jupyter-widgets/base",
            "overflow": null,
            "_model_module_version": "1.2.0",
            "_view_count": null,
            "flex_flow": null,
            "width": null,
            "min_width": null,
            "border": null,
            "align_items": null,
            "bottom": null,
            "_model_module": "@jupyter-widgets/base",
            "top": null,
            "grid_column": null,
            "overflow_y": null,
            "overflow_x": null,
            "grid_auto_flow": null,
            "grid_area": null,
            "grid_template_columns": null,
            "flex": null,
            "_model_name": "LayoutModel",
            "justify_items": null,
            "grid_row": null,
            "max_height": null,
            "align_content": null,
            "visibility": null,
            "align_self": null,
            "height": null,
            "min_height": null,
            "padding": null,
            "grid_auto_rows": null,
            "grid_gap": null,
            "max_width": null,
            "order": null,
            "_view_module_version": "1.2.0",
            "grid_template_areas": null,
            "object_position": null,
            "object_fit": null,
            "grid_auto_columns": null,
            "margin": null,
            "display": null,
            "left": null
          }
        }
      }
    }
  },
  "cells": [
    {
      "cell_type": "markdown",
      "metadata": {
        "id": "view-in-github",
        "colab_type": "text"
      },
      "source": [
        "<a href=\"https://colab.research.google.com/github/Elizaveta55/DS/blob/master/mid2.ipynb\" target=\"_parent\"><img src=\"https://colab.research.google.com/assets/colab-badge.svg\" alt=\"Open In Colab\"/></a>"
      ]
    },
    {
      "cell_type": "markdown",
      "metadata": {
        "id": "horizontal-cylinder"
      },
      "source": [
        "## <center>Midterm Lab\n",
        "```\n",
        "- Advanced Machine Learning, Innopolis University \n",
        "- Professor: Muhammad Fahim \n",
        "- Teaching Assistant: Gcinizwe Dlamini\n",
        "```\n",
        "<hr>\n",
        "\n",
        "```\n",
        "Tasks:\n",
        "  1. Image Transform (5 points)\n",
        "  2. CNN model declaration (10 points)\n",
        "  3. CNN model training (5 points)\n",
        "  4. Transfer Learning or Viterbi algorithm : Bonus (5 points)\n",
        "```\n",
        "\n",
        "<hr>"
      ],
      "id": "horizontal-cylinder"
    },
    {
      "cell_type": "markdown",
      "metadata": {
        "id": "changed-demonstration"
      },
      "source": [
        "## The Dataset"
      ],
      "id": "changed-demonstration"
    },
    {
      "cell_type": "code",
      "metadata": {
        "id": "vietnamese-phase"
      },
      "source": [
        "import torch\n",
        "import torchvision\n",
        "import torchvision.transforms as transforms\n",
        "import torch.optim as optim\n",
        "import numpy as np\n",
        "\n",
        "device = torch.device(\"cuda:0\" if torch.cuda.is_available() else \"cpu\")"
      ],
      "id": "vietnamese-phase",
      "execution_count": 3,
      "outputs": []
    },
    {
      "cell_type": "markdown",
      "metadata": {
        "id": "pediatric-funeral"
      },
      "source": [
        "## Task 1 : Preprocessing of Dataset (5 points)\n",
        "\n",
        "1.   Create the transforms:\n",
        "    * Resize images to (32 * 32)\n",
        "    * Normalize every channel (mean and std of your choice)\n",
        "    * Apply one more data augmentation technique you know (i.e Rotation, translation, RandomErasing, RandomHorizontalFlip etc.)\n",
        "\n",
        "\n",
        "**Hint**: data augmentation techniques shouldn't be applied to the test dataset."
      ],
      "id": "pediatric-funeral"
    },
    {
      "cell_type": "code",
      "metadata": {
        "colab": {
          "base_uri": "https://localhost:8080/",
          "height": 166,
          "referenced_widgets": [
            "c6aaaeac241f4c008fe5a17217dc75f7",
            "032f927596864bcab7fdb17a59d83c19",
            "f33ea563eef443a2a5dff95061bd0b2d",
            "fc34d463ac01478fbd1ef2abfa5a09fe",
            "2d621cf63fd94f6ab938d1fd724569f1",
            "c564a48d69d4493db1c1468df2854fd8",
            "4a131078a7c843d38c80c13d7d5070f0",
            "4248aada495c40f4a265489d37654816",
            "291efbc39fbb4ff5bed13b038a5d9ac1",
            "fbd75528822243d79849823b08e2a999",
            "e37de2944e904877b3367d6631302283",
            "021273d0b36c4c2093a5edda419b2b77",
            "2297327530174d7f9ebf68325aab8a23",
            "8058c3aebd4546c68bb95aca84c3219d",
            "1d37fb37ae4b4267a9b8f1ece4a8e0fc",
            "1374e07a4ad04c169b5fcb9ab09a759c"
          ]
        },
        "id": "cardiac-acrobat",
        "outputId": "fc644cbf-2d82-4337-fe3c-f2dfe2e6deb3"
      },
      "source": [
        "#transform_train = None\n",
        "transform_train = transforms.Compose(\n",
        "    [transforms.Resize([32,32]),\n",
        "     transforms.RandomRotation(15),\n",
        "     transforms.ToTensor(),\n",
        "     transforms.Normalize((0.5, 0.5, 0.5), (0.5, 0.5, 0.5))])\n",
        "\n",
        "#transform_test = None\n",
        "transform_test = transforms.Compose(\n",
        "    [transforms.Resize([32,32]),\n",
        "     transforms.ToTensor(),\n",
        "     transforms.Normalize((0.5, 0.5, 0.5), (0.5, 0.5, 0.5))])\n",
        "\n",
        "trainset = torchvision.datasets.SVHN(root='./data/train', split=\"train\", download=True, transform=transform_train)\n",
        "trainloader = torch.utils.data.DataLoader(trainset, batch_size=64, shuffle=True, num_workers=1)\n",
        "\n",
        "testset = torchvision.datasets.SVHN(root='./data/test', split=\"test\", download=True, transform=transform_test)\n",
        "testloader = torch.utils.data.DataLoader(testset, batch_size=64, shuffle=False, num_workers=1)\n",
        "\n",
        "classes = [f\"{i}\" for i in np.unique(trainset.labels)]\n",
        "print(classes)"
      ],
      "id": "cardiac-acrobat",
      "execution_count": 2,
      "outputs": [
        {
          "output_type": "stream",
          "text": [
            "Downloading http://ufldl.stanford.edu/housenumbers/train_32x32.mat to ./data/train/train_32x32.mat\n"
          ],
          "name": "stdout"
        },
        {
          "output_type": "display_data",
          "data": {
            "application/vnd.jupyter.widget-view+json": {
              "model_id": "c6aaaeac241f4c008fe5a17217dc75f7",
              "version_minor": 0,
              "version_major": 2
            },
            "text/plain": [
              "HBox(children=(FloatProgress(value=0.0, max=182040794.0), HTML(value='')))"
            ]
          },
          "metadata": {
            "tags": []
          }
        },
        {
          "output_type": "stream",
          "text": [
            "\n",
            "Downloading http://ufldl.stanford.edu/housenumbers/test_32x32.mat to ./data/test/test_32x32.mat\n"
          ],
          "name": "stdout"
        },
        {
          "output_type": "display_data",
          "data": {
            "application/vnd.jupyter.widget-view+json": {
              "model_id": "291efbc39fbb4ff5bed13b038a5d9ac1",
              "version_minor": 0,
              "version_major": 2
            },
            "text/plain": [
              "HBox(children=(FloatProgress(value=0.0, max=64275384.0), HTML(value='')))"
            ]
          },
          "metadata": {
            "tags": []
          }
        },
        {
          "output_type": "stream",
          "text": [
            "\n",
            "['0', '1', '2', '3', '4', '5', '6', '7', '8', '9']\n"
          ],
          "name": "stdout"
        }
      ]
    },
    {
      "cell_type": "code",
      "metadata": {
        "colab": {
          "base_uri": "https://localhost:8080/"
        },
        "id": "YZ2M58vxMaUy",
        "outputId": "e6f602ed-eb58-4a68-aa5f-0d3f3508b651"
      },
      "source": [
        "trainset.data"
      ],
      "id": "YZ2M58vxMaUy",
      "execution_count": 12,
      "outputs": [
        {
          "output_type": "execute_result",
          "data": {
            "text/plain": [
              "array([[[[ 33,  15,  15, ...,  72,  82,  89],\n",
              "         [ 28,  14,  14, ...,  40,  67,  83],\n",
              "         [ 40,  18,  16, ...,  23,  35,  72],\n",
              "         ...,\n",
              "         [ 86,  87,  82, ..., 104, 104, 103],\n",
              "         [ 84,  86,  82, ..., 110, 106, 106],\n",
              "         [ 85,  89,  85, ..., 111, 109, 103]],\n",
              "\n",
              "        [[ 30,  23,  17, ...,  65,  77,  79],\n",
              "         [ 39,  25,  20, ...,  39,  58,  78],\n",
              "         [ 41,  21,  17, ...,  29,  42,  69],\n",
              "         ...,\n",
              "         [ 81,  82,  79, ..., 104, 105, 105],\n",
              "         [ 86,  79,  76, ..., 103, 105, 104],\n",
              "         [ 88,  82,  79, ..., 104, 105, 106]],\n",
              "\n",
              "        [[ 38,  19,  19, ...,  56,  57,  59],\n",
              "         [ 35,  22,  17, ...,  50,  52,  60],\n",
              "         [ 38,  26,  23, ...,  45,  44,  53],\n",
              "         ...,\n",
              "         [ 75,  71,  65, ...,  87,  81,  78],\n",
              "         [ 64,  72,  72, ...,  84,  85,  86],\n",
              "         [ 68,  72,  67, ...,  87,  86,  79]]],\n",
              "\n",
              "\n",
              "       [[[ 84,  86,  77, ...,  90,  88,  88],\n",
              "         [ 85,  83,  74, ...,  89,  88,  88],\n",
              "         [ 83,  78,  61, ...,  90,  88,  85],\n",
              "         ...,\n",
              "         [100,  98,  95, ..., 104, 102, 100],\n",
              "         [103, 106, 103, ..., 103, 103, 105],\n",
              "         [103, 103, 104, ..., 113, 104, 103]],\n",
              "\n",
              "        [[ 76,  73,  78, ...,  78,  77,  78],\n",
              "         [ 77,  73,  69, ...,  82,  79,  81],\n",
              "         [ 76,  77,  50, ...,  85,  83,  82],\n",
              "         ...,\n",
              "         [ 98,  94,  93, ..., 104, 102, 101],\n",
              "         [104, 104, 103, ..., 104, 103,  99],\n",
              "         [106, 105, 106, ..., 103, 104,  98]],\n",
              "\n",
              "        [[ 59,  66,  56, ...,  69,  67,  66],\n",
              "         [ 61,  64,  59, ...,  64,  70,  67],\n",
              "         [ 60,  58,  54, ...,  63,  66,  70],\n",
              "         ...,\n",
              "         [ 72,  76,  73, ...,  86,  87,  78],\n",
              "         [ 79,  79,  87, ...,  86,  87,  81],\n",
              "         [ 82,  87,  91, ...,  88,  88,  80]]],\n",
              "\n",
              "\n",
              "       [[[ 19,  20,  25, ...,  65,  78,  98],\n",
              "         [ 21,  19,  25, ...,  63,  91, 130],\n",
              "         [ 21,  20,  22, ...,  79, 125, 178],\n",
              "         ...,\n",
              "         [ 88,  89,  84, ...,  62,  67,  74],\n",
              "         [ 88,  87,  88, ...,  60,  61,  65],\n",
              "         [ 84,  81,  87, ...,  63,  62,  63]],\n",
              "\n",
              "        [[ 54,  52,  57, ..., 144, 148, 158],\n",
              "         [ 53,  52,  56, ..., 137, 153, 180],\n",
              "         [ 53,  51,  52, ..., 147, 181, 218],\n",
              "         ...,\n",
              "         [162, 163, 156, ..., 142, 144, 145],\n",
              "         [164, 160, 159, ..., 141, 141, 143],\n",
              "         [160, 154, 158, ..., 144, 143, 145]],\n",
              "\n",
              "        [[110, 111, 116, ..., 223, 218, 220],\n",
              "         [110, 106, 111, ..., 208, 214, 229],\n",
              "         [110, 106, 106, ..., 210, 230, 254],\n",
              "         ...,\n",
              "         [237, 238, 230, ..., 227, 226, 225],\n",
              "         [240, 237, 237, ..., 230, 228, 226],\n",
              "         [238, 233, 238, ..., 235, 232, 231]]],\n",
              "\n",
              "\n",
              "       ...,\n",
              "\n",
              "\n",
              "       [[[ 92,  94, 114, ..., 200, 192, 190],\n",
              "         [ 92,  93, 111, ..., 181, 177, 183],\n",
              "         [ 99,  94, 107, ..., 167, 172, 185],\n",
              "         ...,\n",
              "         [ 99,  96, 108, ..., 210, 206, 203],\n",
              "         [ 94,  94, 110, ..., 219, 218, 212],\n",
              "         [ 88,  85, 105, ..., 217, 221, 218]],\n",
              "\n",
              "        [[ 78,  82, 101, ..., 201, 193, 191],\n",
              "         [ 78,  80,  98, ..., 180, 176, 182],\n",
              "         [ 84,  81,  94, ..., 166, 171, 184],\n",
              "         ...,\n",
              "         [ 94,  91, 103, ..., 207, 202, 197],\n",
              "         [ 91,  91, 107, ..., 218, 215, 209],\n",
              "         [ 87,  84, 103, ..., 217, 220, 217]],\n",
              "\n",
              "        [[101, 105, 125, ..., 203, 195, 193],\n",
              "         [103, 106, 124, ..., 184, 180, 187],\n",
              "         [112, 110, 123, ..., 171, 176, 189],\n",
              "         ...,\n",
              "         [110, 109, 124, ..., 204, 200, 199],\n",
              "         [103, 104, 121, ..., 215, 212, 209],\n",
              "         [ 94,  93, 114, ..., 214, 219, 218]]],\n",
              "\n",
              "\n",
              "       [[[190, 205, 220, ..., 229, 229, 229],\n",
              "         [183, 200, 218, ..., 227, 227, 228],\n",
              "         [171, 189, 213, ..., 231, 229, 227],\n",
              "         ...,\n",
              "         [187, 204, 217, ..., 204, 196, 196],\n",
              "         [186, 198, 211, ..., 222, 214, 208],\n",
              "         [190, 199, 208, ..., 232, 226, 218]],\n",
              "\n",
              "        [[188, 203, 218, ..., 231, 229, 228],\n",
              "         [182, 199, 217, ..., 228, 226, 224],\n",
              "         [170, 189, 213, ..., 230, 226, 223],\n",
              "         ...,\n",
              "         [185, 202, 217, ..., 200, 193, 193],\n",
              "         [184, 197, 211, ..., 216, 209, 205],\n",
              "         [188, 197, 208, ..., 227, 221, 213]],\n",
              "\n",
              "        [[191, 206, 220, ..., 224, 224, 223],\n",
              "         [186, 201, 218, ..., 223, 222, 221],\n",
              "         [175, 193, 215, ..., 226, 223, 220],\n",
              "         ...,\n",
              "         [186, 199, 210, ..., 195, 189, 189],\n",
              "         [185, 194, 204, ..., 212, 205, 200],\n",
              "         [190, 194, 201, ..., 223, 216, 209]]],\n",
              "\n",
              "\n",
              "       [[[216, 221, 226, ..., 200, 193, 197],\n",
              "         [204, 210, 220, ..., 201, 195, 196],\n",
              "         [198, 202, 212, ..., 203, 198, 195],\n",
              "         ...,\n",
              "         [233, 230, 228, ..., 198, 184, 189],\n",
              "         [231, 229, 227, ..., 195, 181, 186],\n",
              "         [230, 230, 229, ..., 190, 178, 181]],\n",
              "\n",
              "        [[217, 222, 227, ..., 199, 188, 189],\n",
              "         [205, 211, 221, ..., 199, 191, 190],\n",
              "         [198, 202, 211, ..., 200, 194, 190],\n",
              "         ...,\n",
              "         [226, 224, 223, ..., 196, 183, 187],\n",
              "         [226, 224, 223, ..., 194, 181, 183],\n",
              "         [226, 226, 225, ..., 190, 177, 178]],\n",
              "\n",
              "        [[212, 217, 221, ..., 191, 182, 186],\n",
              "         [202, 208, 217, ..., 193, 186, 186],\n",
              "         [197, 201, 210, ..., 196, 191, 187],\n",
              "         ...,\n",
              "         [228, 225, 221, ..., 190, 177, 182],\n",
              "         [228, 225, 222, ..., 186, 173, 177],\n",
              "         [227, 227, 226, ..., 181, 169, 171]]]], dtype=uint8)"
            ]
          },
          "metadata": {
            "tags": []
          },
          "execution_count": 12
        }
      ]
    },
    {
      "cell_type": "markdown",
      "metadata": {
        "id": "architectural-performance"
      },
      "source": [
        "## Task 1.1 Plot Classes distribution \n",
        "\n",
        "Plot the distribution of classes in the training sample on a bar graph"
      ],
      "id": "architectural-performance"
    },
    {
      "cell_type": "code",
      "metadata": {
        "id": "ancient-fourth",
        "colab": {
          "base_uri": "https://localhost:8080/",
          "height": 333
        },
        "outputId": "e9ac20ed-74d7-4e55-b537-c73930991dfb"
      },
      "source": [
        "from matplotlib import pyplot as plt\n",
        "from scipy.io import loadmat\n",
        "\n",
        "def load_data(path):\n",
        "    data = loadmat(path)\n",
        "    return data['X'], data['y']\n",
        "\n",
        "path = './data/train/train_32x32.mat'\n",
        "X_train_plot, y_train_plot = load_data(path)\n",
        "plt.hist(y_train_plot)"
      ],
      "id": "ancient-fourth",
      "execution_count": 3,
      "outputs": [
        {
          "output_type": "execute_result",
          "data": {
            "text/plain": [
              "(array([13861., 10585.,  8497.,  7458.,  6882.,  5727.,  5595.,  5045.,\n",
              "         4659.,  4948.]),\n",
              " array([ 1. ,  1.9,  2.8,  3.7,  4.6,  5.5,  6.4,  7.3,  8.2,  9.1, 10. ]),\n",
              " <a list of 10 Patch objects>)"
            ]
          },
          "metadata": {
            "tags": []
          },
          "execution_count": 3
        },
        {
          "output_type": "display_data",
          "data": {
            "image/png": "[encoded data removed]",
            "text/plain": [
              "<Figure size 432x288 with 1 Axes>"
            ]
          },
          "metadata": {
            "tags": [],
            "needs_background": "light"
          }
        }
      ]
    },
    {
      "cell_type": "code",
      "metadata": {
        "id": "split-chicken",
        "colab": {
          "base_uri": "https://localhost:8080/",
          "height": 269
        },
        "outputId": "f9107815-1546-42b8-d323-0b778206b1d9"
      },
      "source": [
        "def to_img(x):\n",
        "    x = 0.5 * (x + 1)\n",
        "    x = x.clamp(0, 1)\n",
        "    x = x.view(x.size(0), 3, 32, 32)\n",
        "    return x\n",
        "\n",
        "# functions to show an image\n",
        "def imshow(img):\n",
        "    img = img / 2 + 0.5 # unnormalize\n",
        "    npimg = img.numpy()\n",
        "    plt.imshow(np.transpose(npimg, (1, 2, 0)))\n",
        "\n",
        "# sample a batch and show \n",
        "dataiter = iter(trainloader)\n",
        "images, labels = dataiter.next()\n",
        "\n",
        "imshow(torchvision.utils.make_grid(images))"
      ],
      "id": "split-chicken",
      "execution_count": 4,
      "outputs": [
        {
          "output_type": "display_data",
          "data": {
            "image/png": "[encoded data removed]",
            "text/plain": [
              "<Figure size 432x288 with 1 Axes>"
            ]
          },
          "metadata": {
            "tags": [],
            "needs_background": "light"
          }
        }
      ]
    },
    {
      "cell_type": "markdown",
      "metadata": {
        "id": "graphic-humor"
      },
      "source": [
        "## Task 2 : Build a classisfication convolutional neural network\n",
        "\n",
        "\n",
        "The Model should should have the following achitecture : \n",
        "1. 3 Convolution layers : (5 points)\n",
        "    * conv1 : 2 kernels, 3*3 kernel size, stride 1.\n",
        "    * conv2 : 4 kernels, 5*5 kernel size, stride 2.\n",
        "    * conv3 : 8 kernels, 3*3 kernel size, stride 1.\n",
        "    * Add 1 Avarage pooling layer after 2nd layer and 1 Max-pooling layer before the fully connected layers.\n",
        "    * Stride for all pooling operations set to 1 \n",
        "    \n",
        "    \n",
        "2. Fully connected layers : \n",
        "    * fc1 : 64 output-neurons with a relu activation.\n",
        "    * output_layer : final layer with no activation function\n",
        "    * Add Dropout layer after the first (fc1) layer with 25% dropout probability\n",
        "\n",
        "3. Implement the foward pass method for the CNN  (5 points)\n",
        "    * Add an activation function of your own choice after every layer\n",
        "    "
      ],
      "id": "graphic-humor"
    },
    {
      "cell_type": "code",
      "metadata": {
        "id": "committed-restaurant"
      },
      "source": [
        "import torch.nn as nn\n",
        "import torch.nn.functional as F\n",
        "\n",
        "class Net(nn.Module):\n",
        "    def __init__(self):\n",
        "        super(Net, self).__init__()\n",
        "        self.conv1 = nn.Conv2d(3, 2, 3,  stride=1)\n",
        "        self.conv2 = nn.Conv2d(2, 4, 5,  stride=2)\n",
        "        self.pool1 = nn.AvgPool2d(2, 1)\n",
        "        self.conv3 = nn.Conv2d(4, 8, 3,  stride=1)\n",
        "        self.pool2 = nn.MaxPool2d(2, 1)\n",
        "\n",
        "        self.fc1 = nn.Linear(8 * 9 * 9, 64)\n",
        "        self.dropout = nn.Dropout(p=0.25)\n",
        "        self.fc2 = nn.Linear(64, 10)\n",
        "\n",
        "    def forward(self, x):\n",
        "        x = F.relu(self.conv1(x))\n",
        "        x = self.pool1(F.relu(self.conv2(x)))\n",
        "        x = self.pool2(F.relu(self.conv3(x)))\n",
        "        x = x.view(-1, 8 * 9 * 9)\n",
        "        x = F.relu(self.fc1(x))\n",
        "        x = self.dropout(x)\n",
        "        x = self.fc2(x)\n",
        "        return x\n",
        "        "
      ],
      "id": "committed-restaurant",
      "execution_count": 6,
      "outputs": []
    },
    {
      "cell_type": "markdown",
      "metadata": {
        "id": "computational-occupation"
      },
      "source": [
        "## Task 3 : Convolutional neural network training precedure (5 points)\n",
        "\n",
        "Implement the model training procedure and select the appropriate loss function"
      ],
      "id": "computational-occupation"
    },
    {
      "cell_type": "code",
      "metadata": {
        "id": "headed-disposition"
      },
      "source": [
        "# Model accuracy calculator \n",
        "def accuracy_calc(net,testloader,device):\n",
        "    correct = 0\n",
        "    total = 0\n",
        "    with torch.no_grad():\n",
        "        for data in testloader:\n",
        "            images, labels = data\n",
        "            images, labels = images.to(device), labels.to(device)\n",
        "            outputs = net(images)\n",
        "            _, predicted = torch.max(outputs.data, 1)\n",
        "            total += labels.size(0)\n",
        "            correct += (predicted == labels).sum().item()\n",
        "    \n",
        "    return correct / total"
      ],
      "id": "headed-disposition",
      "execution_count": 4,
      "outputs": []
    },
    {
      "cell_type": "code",
      "metadata": {
        "id": "acquired-radio",
        "colab": {
          "base_uri": "https://localhost:8080/"
        },
        "outputId": "3bab66d4-5404-40f5-cb56-d8b878d406a7"
      },
      "source": [
        "model = Net().to(device)\n",
        "model.parameters"
      ],
      "id": "acquired-radio",
      "execution_count": 7,
      "outputs": [
        {
          "output_type": "execute_result",
          "data": {
            "text/plain": [
              "<bound method Module.parameters of Net(\n",
              "  (conv1): Conv2d(3, 2, kernel_size=(3, 3), stride=(1, 1))\n",
              "  (conv2): Conv2d(2, 4, kernel_size=(5, 5), stride=(2, 2))\n",
              "  (pool1): AvgPool2d(kernel_size=2, stride=1, padding=0)\n",
              "  (conv3): Conv2d(4, 8, kernel_size=(3, 3), stride=(1, 1))\n",
              "  (pool2): MaxPool2d(kernel_size=2, stride=1, padding=0, dilation=1, ceil_mode=False)\n",
              "  (fc1): Linear(in_features=648, out_features=64, bias=True)\n",
              "  (dropout): Dropout(p=0.25, inplace=False)\n",
              "  (fc2): Linear(in_features=64, out_features=10, bias=True)\n",
              ")>"
            ]
          },
          "metadata": {
            "tags": []
          },
          "execution_count": 7
        }
      ]
    },
    {
      "cell_type": "code",
      "metadata": {
        "id": "hbtxWgo5dvrB"
      },
      "source": [
        ""
      ],
      "id": "hbtxWgo5dvrB",
      "execution_count": null,
      "outputs": []
    },
    {
      "cell_type": "code",
      "metadata": {
        "id": "designed-typing"
      },
      "source": [
        "#Set hyper parameters \n",
        "nb_epoch = 3\n",
        "lr = 0.001\n",
        "\n",
        "#optimizer = optim.SGD(model.parameters(), lr=lr, momentum=0.9)\n",
        "optimizer = optim.SGD(net.parameters(), lr=lr, momentum=0.9)\n",
        "criterion = nn.CrossEntropyLoss()\n",
        "\n",
        "\n",
        "def train(model,trainloader, optimizer, criterion, device):\n",
        "    amount_epochs = nb_epoch\n",
        "    epoch_loss = 0\n",
        "    epoch_acc = 0\n",
        "    model.train()\n",
        "    for epoch in range(amount_epochs):\n",
        "      loss_count = 0\n",
        "      count = 0\n",
        "      for i, data in enumerate(trainloader, 0):\n",
        "        inputs, labels = data\n",
        "        inputs, labels = inputs.to(device), labels.to(device)\n",
        "        optimizer.zero_grad()\n",
        "        predictions = model(inputs).squeeze(1)\n",
        "        loss = criterion(predictions, labels)\n",
        "        loss.backward()\n",
        "        optimizer.step()\n",
        "        loss_count += loss.item()\n",
        "        count+=1\n",
        "      epoch_loss += loss_count / count\n",
        "    \n",
        "    return epoch_loss / amount_epochs, accuracy_calc(model, trainloader, device)"
      ],
      "id": "designed-typing",
      "execution_count": 10,
      "outputs": []
    },
    {
      "cell_type": "code",
      "metadata": {
        "id": "confident-purple",
        "colab": {
          "base_uri": "https://localhost:8080/"
        },
        "outputId": "f9f56eab-dd89-4de4-f9fd-18c55deb7765"
      },
      "source": [
        "for epoch in range(nb_epoch):\n",
        "    epochLoss, epochAcc = train(model,trainloader, optimizer, criterion, device)\n",
        "    print(f\"Epoch : {epoch}, Loss {epochLoss}, Accuracy {epochAcc}\")"
      ],
      "id": "confident-purple",
      "execution_count": 11,
      "outputs": [
        {
          "output_type": "stream",
          "text": [
            "Epoch : 0, Loss 2.235016488820705, Accuracy 0.18921058738414076\n",
            "Epoch : 1, Loss 1.6584459351833905, Accuracy 0.7034686105082109\n",
            "Epoch : 2, Loss 0.8196145846333566, Accuracy 0.7774956659431863\n"
          ],
          "name": "stdout"
        }
      ]
    },
    {
      "cell_type": "markdown",
      "metadata": {
        "id": "recreational-dodge"
      },
      "source": [
        "## Task 4 (bonus) : Use pretrained CNN model or Viterbi implementation (5 points)\n",
        "\n",
        "**Option 1** : Import any pretrained model and train on CIFAR10. Print out the loss and accuracy at each an every epoch. Number of training epochs and optimizer are of your choice. <br>\n",
        "**OPtion 2** : Implement the viterbi algorithm (from previous lab task POS tagging) "
      ],
      "id": "recreational-dodge"
    },
    {
      "cell_type": "code",
      "metadata": {
        "id": "innovative-statement",
        "colab": {
          "base_uri": "https://localhost:8080/",
          "height": 117,
          "referenced_widgets": [
            "51805b9ac4b643a88b4bba0d14f6fc40",
            "55fd8d790bb54bcaad736ba7eb8d5c55",
            "7828ed88e9334698811922193e8a1fef",
            "01d8b871853946ceae7e64eb7ea24141",
            "6053de4fd5044946bc1183b5b4512ca2",
            "64f14fc4dd60420e897008177d294e63",
            "e744a5df2da041269afd614c8321eac0",
            "156a54579b734efe9ecf911f42cbb048"
          ]
        },
        "outputId": "18c3f0a4-a2db-422c-e3b4-e99fba56d12d"
      },
      "source": [
        "import torchvision.models as models\n",
        "\n",
        "transform = transforms.Compose(\n",
        "    [transforms.Resize((256,256)),\n",
        "     transforms.ToTensor(),\n",
        "     transforms.Normalize((0.5, 0.5, 0.5), (0.5, 0.5, 0.5))])\n",
        "\n",
        "trainset = torchvision.datasets.CIFAR10(root='./data', train=True,\n",
        "                                        download=True, transform=transform)\n",
        "trainloader = torch.utils.data.DataLoader(trainset, batch_size=4,\n",
        "                                          shuffle=True, num_workers=2)\n",
        "\n",
        "testset = torchvision.datasets.CIFAR10(root='./data', train=False,\n",
        "                                       download=True, transform=transform)\n",
        "testloader = torch.utils.data.DataLoader(testset, batch_size=4,\n",
        "                                         shuffle=False, num_workers=2)\n",
        "\n",
        "classes = ('plane', 'car', 'bird', 'cat',\n",
        "           'deer', 'dog', 'frog', 'horse', 'ship', 'truck')"
      ],
      "id": "innovative-statement",
      "execution_count": 8,
      "outputs": [
        {
          "output_type": "stream",
          "text": [
            "Downloading https://www.cs.toronto.edu/~kriz/cifar-10-python.tar.gz to ./data/cifar-10-python.tar.gz\n"
          ],
          "name": "stdout"
        },
        {
          "output_type": "display_data",
          "data": {
            "application/vnd.jupyter.widget-view+json": {
              "model_id": "51805b9ac4b643a88b4bba0d14f6fc40",
              "version_minor": 0,
              "version_major": 2
            },
            "text/plain": [
              "HBox(children=(FloatProgress(value=0.0, max=170498071.0), HTML(value='')))"
            ]
          },
          "metadata": {
            "tags": []
          }
        },
        {
          "output_type": "stream",
          "text": [
            "\n",
            "Extracting ./data/cifar-10-python.tar.gz to ./data\n",
            "Files already downloaded and verified\n"
          ],
          "name": "stdout"
        }
      ]
    },
    {
      "cell_type": "code",
      "metadata": {
        "colab": {
          "base_uri": "https://localhost:8080/",
          "height": 83,
          "referenced_widgets": [
            "38cfd9aca2b84a94af10bf4d16ac579f",
            "5e5c864f6fdc4a63bb3b2b1b56b848c3",
            "903ba97186f54629aadb71aa9ff78c61",
            "9c8e7361349647658d1be618ee748133",
            "f15c65137c79482f9a7b0b8fdb12f064",
            "b586f46b948641ac9cb7a38cea61a47a",
            "0dcdcf4c8b5f41f8800e7b25a820d470",
            "46b841cd266a419c914a8d704f0b5509"
          ]
        },
        "id": "AFcslPgqXBhl",
        "outputId": "5831e160-7fcf-4426-a8fd-5920d6e74edd"
      },
      "source": [
        "import torch.nn as nn\n",
        "import torch.nn.functional as F\n",
        "\n",
        "\n",
        "class Net(nn.Module):\n",
        "    def __init__(self):\n",
        "        super(Net, self).__init__()\n",
        "        self.net = models.resnet18(pretrained=True,progress=True)\n",
        "        self.net.trainable = False\n",
        "        self.net.fc = nn.Linear(512, 10)\n",
        "\n",
        "    def forward(self, x):\n",
        "        return self.net(x)\n",
        "\n",
        "\n",
        "net = Net()\n",
        "net = net.to(device)"
      ],
      "id": "AFcslPgqXBhl",
      "execution_count": 9,
      "outputs": [
        {
          "output_type": "stream",
          "text": [
            "Downloading: \"https://download.pytorch.org/models/resnet18-5c106cde.pth\" to /root/.cache/torch/hub/checkpoints/resnet18-5c106cde.pth\n"
          ],
          "name": "stderr"
        },
        {
          "output_type": "display_data",
          "data": {
            "application/vnd.jupyter.widget-view+json": {
              "model_id": "38cfd9aca2b84a94af10bf4d16ac579f",
              "version_minor": 0,
              "version_major": 2
            },
            "text/plain": [
              "HBox(children=(FloatProgress(value=0.0, max=46827520.0), HTML(value='')))"
            ]
          },
          "metadata": {
            "tags": []
          }
        },
        {
          "output_type": "stream",
          "text": [
            "\n"
          ],
          "name": "stdout"
        }
      ]
    },
    {
      "cell_type": "code",
      "metadata": {
        "id": "rEX1jdACXHae"
      },
      "source": [
        "for epoch in range(nb_epoch):\n",
        "    epochLoss, epochAcc = train(net,trainloader, optimizer, criterion, device)\n",
        "    print(f\"Epoch : {epoch}, Loss {epochLoss}, Accuracy {epochAcc}\")"
      ],
      "id": "rEX1jdACXHae",
      "execution_count": null,
      "outputs": []
    }
  ]
}